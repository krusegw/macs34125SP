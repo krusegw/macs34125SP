{
  "nbformat": 4,
  "nbformat_minor": 0,
  "metadata": {
    "colab": {
      "provenance": [],
      "authorship_tag": "ABX9TyMrtGfTnPa6lbOcWfynfLMm",
      "include_colab_link": true
    },
    "kernelspec": {
      "name": "python3",
      "display_name": "Python 3"
    },
    "language_info": {
      "name": "python"
    }
  },
  "cells": [
    {
      "cell_type": "markdown",
      "metadata": {
        "id": "view-in-github",
        "colab_type": "text"
      },
      "source": [
        "<a href=\"https://colab.research.google.com/github/krusegw/macs34125SP/blob/main/JUNIA_Birthday.ipynb\" target=\"_parent\"><img src=\"https://colab.research.google.com/assets/colab-badge.svg\" alt=\"Open In Colab\"/></a>"
      ]
    },
    {
      "cell_type": "code",
      "execution_count": null,
      "metadata": {
        "colab": {
          "base_uri": "https://localhost:8080/"
        },
        "id": "Fn2ERmaQpPEB",
        "outputId": "f6400c72-5951-45ca-9efd-488e36d5193d"
      },
      "outputs": [
        {
          "output_type": "stream",
          "name": "stdout",
          "text": [
            "0.4270833333333333\n"
          ]
        }
      ],
      "source": [
        "def P(x,N):\n",
        "  prod=1\n",
        "  for i in range(x,x-N,-1):\n",
        "    prod*=i\n",
        "  return prod\n",
        "\n",
        "N=4\n",
        "print( ((12**N - P(12,N)))/12**N )"
      ]
    },
    {
      "cell_type": "code",
      "source": [
        "def P(x,N):\n",
        "  prod=1\n",
        "  for i in range(x,x-N,-1):\n",
        "    prod*=i\n",
        "  return prod\n",
        "\n",
        "for N in range(2,12):\n",
        "  print( N , ((12**N - P(12,N)))/12**N )"
      ],
      "metadata": {
        "colab": {
          "base_uri": "https://localhost:8080/"
        },
        "id": "ipm6YOUpqG1i",
        "outputId": "dad75ce3-6880-4c38-b037-5a9023898581"
      },
      "execution_count": null,
      "outputs": [
        {
          "output_type": "stream",
          "name": "stdout",
          "text": [
            "2 0.08333333333333333\n",
            "3 0.2361111111111111\n",
            "4 0.4270833333333333\n",
            "5 0.6180555555555556\n",
            "6 0.7771990740740741\n",
            "7 0.8885995370370371\n",
            "8 0.9535831404320988\n",
            "9 0.9845277134773662\n",
            "10 0.9961319283693416\n",
            "11 0.9993553213948903\n"
          ]
        }
      ]
    },
    {
      "cell_type": "code",
      "source": [
        "def P(x,N):\n",
        "  prod=1\n",
        "  for i in range(x,x-N,-1):\n",
        "    prod*=i\n",
        "  return prod\n",
        "\n",
        "for N in range(23,32):\n",
        "  print( N , ((365**N - P(365,N)))/365**N )"
      ],
      "metadata": {
        "colab": {
          "base_uri": "https://localhost:8080/"
        },
        "id": "tf69tEkuvxQP",
        "outputId": "9628e465-6e32-4d7a-bd83-f0935f0cf91c"
      },
      "execution_count": 16,
      "outputs": [
        {
          "output_type": "stream",
          "name": "stdout",
          "text": [
            "23 0.5072972343239854\n",
            "24 0.5383442579145288\n",
            "25 0.5686997039694639\n",
            "26 0.5982408201359389\n",
            "27 0.626859282263242\n",
            "28 0.6544614723423994\n",
            "29 0.680968537477777\n",
            "30 0.7063162427192686\n",
            "31 0.7304546337286438\n"
          ]
        }
      ]
    }
  ]
}