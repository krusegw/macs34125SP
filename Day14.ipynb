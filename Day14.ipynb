{
  "nbformat": 4,
  "nbformat_minor": 0,
  "metadata": {
    "colab": {
      "provenance": [],
      "authorship_tag": "ABX9TyP1D1vZ8uDXAbMMXVWhyK3Z",
      "include_colab_link": true
    },
    "kernelspec": {
      "name": "python3",
      "display_name": "Python 3"
    },
    "language_info": {
      "name": "python"
    }
  },
  "cells": [
    {
      "cell_type": "markdown",
      "metadata": {
        "id": "view-in-github",
        "colab_type": "text"
      },
      "source": [
        "<a href=\"https://colab.research.google.com/github/krusegw/macs34125SP/blob/main/Day14.ipynb\" target=\"_parent\"><img src=\"https://colab.research.google.com/assets/colab-badge.svg\" alt=\"Open In Colab\"/></a>"
      ]
    },
    {
      "cell_type": "code",
      "execution_count": 2,
      "metadata": {
        "id": "9YRaYT095giR",
        "colab": {
          "base_uri": "https://localhost:8080/"
        },
        "outputId": "0a11e771-e7d1-4a70-b916-ca4765d9f8cd"
      },
      "outputs": [
        {
          "output_type": "stream",
          "name": "stdout",
          "text": [
            "Cloning into 'macs34125SP'...\n",
            "remote: Enumerating objects: 4, done.\u001b[K\n",
            "remote: Counting objects: 100% (4/4), done.\u001b[K\n",
            "remote: Compressing objects: 100% (4/4), done.\u001b[K\n",
            "remote: Total 4 (delta 0), reused 4 (delta 0), pack-reused 0 (from 0)\u001b[K\n",
            "Receiving objects: 100% (4/4), 22.21 KiB | 4.44 MiB/s, done.\n"
          ]
        }
      ],
      "source": [
        "!git clone https://github.com/krusegw/macs34125SP.git"
      ]
    },
    {
      "cell_type": "code",
      "source": [
        "!pwd"
      ],
      "metadata": {
        "colab": {
          "base_uri": "https://localhost:8080/"
        },
        "id": "7wkmESpkyEwe",
        "outputId": "3e8c2ee2-d7dd-4802-deae-eb4bf3046027"
      },
      "execution_count": 3,
      "outputs": [
        {
          "output_type": "stream",
          "name": "stdout",
          "text": [
            "/content\n"
          ]
        }
      ]
    },
    {
      "cell_type": "code",
      "source": [
        "!ls"
      ],
      "metadata": {
        "colab": {
          "base_uri": "https://localhost:8080/"
        },
        "id": "UVFGd2GTytLv",
        "outputId": "93289090-929d-49d8-9b3d-aaffa581958e"
      },
      "execution_count": 4,
      "outputs": [
        {
          "output_type": "stream",
          "name": "stdout",
          "text": [
            "macs34125SP  sample_data\n"
          ]
        }
      ]
    },
    {
      "cell_type": "code",
      "source": [
        "!cd macs34125SP/"
      ],
      "metadata": {
        "id": "8y0QDWlpywJO"
      },
      "execution_count": 5,
      "outputs": []
    },
    {
      "cell_type": "code",
      "source": [
        "!ls"
      ],
      "metadata": {
        "colab": {
          "base_uri": "https://localhost:8080/"
        },
        "id": "dSC9xyeGyzPO",
        "outputId": "0be470c2-6d23-4227-cfb2-a3ab7b5186ae"
      },
      "execution_count": 6,
      "outputs": [
        {
          "output_type": "stream",
          "name": "stdout",
          "text": [
            "macs34125SP  sample_data\n"
          ]
        }
      ]
    },
    {
      "cell_type": "code",
      "source": [
        "%cd macs34125SP/"
      ],
      "metadata": {
        "colab": {
          "base_uri": "https://localhost:8080/"
        },
        "id": "bNFJKd4hy0oO",
        "outputId": "560724da-fc2f-4029-f074-a7b79be1269e"
      },
      "execution_count": 7,
      "outputs": [
        {
          "output_type": "stream",
          "name": "stdout",
          "text": [
            "/content/macs34125SP\n"
          ]
        }
      ]
    },
    {
      "cell_type": "code",
      "source": [
        "!ls"
      ],
      "metadata": {
        "colab": {
          "base_uri": "https://localhost:8080/"
        },
        "id": "2a3n7U7yy38O",
        "outputId": "72a5d04c-2b09-4e51-bcbc-b212b622feaa"
      },
      "execution_count": 8,
      "outputs": [
        {
          "output_type": "stream",
          "name": "stdout",
          "text": [
            "python-novice-inflammation-code.zip  python-novice-inflammation-data.zip\n"
          ]
        }
      ]
    },
    {
      "cell_type": "code",
      "source": [
        "%unzip python*.zip"
      ],
      "metadata": {
        "colab": {
          "base_uri": "https://localhost:8080/"
        },
        "id": "XDMA1L3_y5oe",
        "outputId": "370bfb87-016d-4b0e-b9b4-886f6de66e15"
      },
      "execution_count": 9,
      "outputs": [
        {
          "output_type": "stream",
          "name": "stderr",
          "text": [
            "UsageError: Line magic function `%unzip` not found.\n"
          ]
        }
      ]
    },
    {
      "cell_type": "code",
      "source": [
        "!unzip python*.zip"
      ],
      "metadata": {
        "colab": {
          "base_uri": "https://localhost:8080/"
        },
        "id": "g6svZjOfzDMf",
        "outputId": "343f5344-ebcb-44a7-d6d1-2dddf04f9a9d"
      },
      "execution_count": 10,
      "outputs": [
        {
          "output_type": "stream",
          "name": "stdout",
          "text": [
            "Archive:  python-novice-inflammation-code.zip\n",
            "caution: filename not matched:  python-novice-inflammation-data.zip\n"
          ]
        }
      ]
    },
    {
      "cell_type": "code",
      "source": [
        "!ls"
      ],
      "metadata": {
        "colab": {
          "base_uri": "https://localhost:8080/"
        },
        "id": "dHts_o7yzFdf",
        "outputId": "35137bf5-0db6-426a-b18a-d3c4daa58517"
      },
      "execution_count": 11,
      "outputs": [
        {
          "output_type": "stream",
          "name": "stdout",
          "text": [
            "python-novice-inflammation-code.zip  python-novice-inflammation-data.zip\n"
          ]
        }
      ]
    },
    {
      "cell_type": "code",
      "source": [
        "%mkdir swc-python"
      ],
      "metadata": {
        "id": "824L7VlmzIOP"
      },
      "execution_count": 12,
      "outputs": []
    },
    {
      "cell_type": "code",
      "source": [
        "!ls"
      ],
      "metadata": {
        "colab": {
          "base_uri": "https://localhost:8080/"
        },
        "id": "MbJ4kcKwzPtP",
        "outputId": "73e75c67-3a43-4ffc-b5e9-8e058950d824"
      },
      "execution_count": 13,
      "outputs": [
        {
          "output_type": "stream",
          "name": "stdout",
          "text": [
            "python-novice-inflammation-code.zip  python-novice-inflammation-data.zip  swc-python\n"
          ]
        }
      ]
    },
    {
      "cell_type": "code",
      "source": [
        "!mv *.zip swc-python/"
      ],
      "metadata": {
        "id": "q7SAMM82zQ7P"
      },
      "execution_count": 14,
      "outputs": []
    },
    {
      "cell_type": "code",
      "source": [
        "!ls"
      ],
      "metadata": {
        "colab": {
          "base_uri": "https://localhost:8080/"
        },
        "id": "NScZPJiFzVLu",
        "outputId": "8a42ceec-dc79-4f1e-d7bd-af7a24864249"
      },
      "execution_count": 15,
      "outputs": [
        {
          "output_type": "stream",
          "name": "stdout",
          "text": [
            "swc-python\n"
          ]
        }
      ]
    },
    {
      "cell_type": "code",
      "source": [
        "%cd swc-python/"
      ],
      "metadata": {
        "colab": {
          "base_uri": "https://localhost:8080/"
        },
        "id": "A8wl6nNHzWjv",
        "outputId": "6b726573-4856-4d54-ac0f-71d4a8e45d27"
      },
      "execution_count": 16,
      "outputs": [
        {
          "output_type": "stream",
          "name": "stdout",
          "text": [
            "/content/macs34125SP/swc-python\n"
          ]
        }
      ]
    },
    {
      "cell_type": "code",
      "source": [
        "!ls"
      ],
      "metadata": {
        "colab": {
          "base_uri": "https://localhost:8080/"
        },
        "id": "SyJ0hjXszY-f",
        "outputId": "98edf714-a94b-4e21-93cb-2019989a077f"
      },
      "execution_count": 17,
      "outputs": [
        {
          "output_type": "stream",
          "name": "stdout",
          "text": [
            "python-novice-inflammation-code.zip  python-novice-inflammation-data.zip\n"
          ]
        }
      ]
    },
    {
      "cell_type": "code",
      "source": [
        "%unzip *.zip"
      ],
      "metadata": {
        "colab": {
          "base_uri": "https://localhost:8080/"
        },
        "id": "7wQY1ClEzabf",
        "outputId": "dd94ab95-562a-40c5-a52f-7539c4f35256"
      },
      "execution_count": 18,
      "outputs": [
        {
          "output_type": "stream",
          "name": "stderr",
          "text": [
            "UsageError: Line magic function `%unzip` not found.\n"
          ]
        }
      ]
    },
    {
      "cell_type": "code",
      "source": [
        "!unzip *.zip"
      ],
      "metadata": {
        "colab": {
          "base_uri": "https://localhost:8080/"
        },
        "id": "S-4pJDYszdgA",
        "outputId": "4da0a9e0-8abb-4bb6-f697-3d0547afd17f"
      },
      "execution_count": 19,
      "outputs": [
        {
          "output_type": "stream",
          "name": "stdout",
          "text": [
            "Archive:  python-novice-inflammation-code.zip\n",
            "caution: filename not matched:  python-novice-inflammation-data.zip\n"
          ]
        }
      ]
    },
    {
      "cell_type": "code",
      "source": [
        "!ls"
      ],
      "metadata": {
        "colab": {
          "base_uri": "https://localhost:8080/"
        },
        "id": "npGVMiw8zfRP",
        "outputId": "1f891529-94b0-4ca4-9cfe-5d37151fd0bd"
      },
      "execution_count": 20,
      "outputs": [
        {
          "output_type": "stream",
          "name": "stdout",
          "text": [
            "python-novice-inflammation-code.zip  python-novice-inflammation-data.zip\n"
          ]
        }
      ]
    },
    {
      "cell_type": "code",
      "source": [
        "!unzip python-novice-inflammation-code.zip"
      ],
      "metadata": {
        "colab": {
          "base_uri": "https://localhost:8080/"
        },
        "id": "18g4JhGvzgn_",
        "outputId": "038923bf-59f7-42c3-c58f-71a211a53656"
      },
      "execution_count": 21,
      "outputs": [
        {
          "output_type": "stream",
          "name": "stdout",
          "text": [
            "Archive:  python-novice-inflammation-code.zip\n",
            "  inflating: code/argv_list.py       \n",
            "  inflating: code/arith.py           \n",
            "  inflating: code/check.py           \n",
            "  inflating: code/count_stdin.py     \n",
            "  inflating: code/gen_inflammation.py  \n",
            "  inflating: code/line_count.py      \n",
            "  inflating: code/my_ls.py           \n",
            "  inflating: code/readings_01.py     \n",
            "  inflating: code/readings_02.py     \n",
            "  inflating: code/readings_03.py     \n",
            "  inflating: code/readings_04.py     \n",
            "  inflating: code/readings_05.py     \n",
            "  inflating: code/readings_06.py     \n",
            "  inflating: code/readings_07.py     \n",
            "  inflating: code/readings_08.py     \n",
            "  inflating: code/readings_09.py     \n",
            "  inflating: code/rectangle.py       \n",
            "  inflating: code/sys_version.py     \n"
          ]
        }
      ]
    },
    {
      "cell_type": "code",
      "source": [
        "!unzip python-novice-inflammation-data.zip"
      ],
      "metadata": {
        "colab": {
          "base_uri": "https://localhost:8080/"
        },
        "id": "ZZ1G5vX3zkgv",
        "outputId": "c1cef7dd-bc4d-4c50-81c0-49c53afadd84"
      },
      "execution_count": 22,
      "outputs": [
        {
          "output_type": "stream",
          "name": "stdout",
          "text": [
            "Archive:  python-novice-inflammation-data.zip\n",
            "   creating: data/\n",
            "  inflating: data/inflammation-01.csv  \n",
            "  inflating: data/inflammation-02.csv  \n",
            "  inflating: data/inflammation-03.csv  \n",
            "  inflating: data/inflammation-04.csv  \n",
            "  inflating: data/inflammation-05.csv  \n",
            "  inflating: data/inflammation-06.csv  \n",
            "  inflating: data/inflammation-07.csv  \n",
            "  inflating: data/inflammation-08.csv  \n",
            "  inflating: data/inflammation-09.csv  \n",
            "  inflating: data/inflammation-10.csv  \n",
            "  inflating: data/inflammation-11.csv  \n",
            "  inflating: data/inflammation-12.csv  \n",
            " extracting: data/small-01.csv       \n",
            " extracting: data/small-02.csv       \n",
            " extracting: data/small-03.csv       \n"
          ]
        }
      ]
    },
    {
      "cell_type": "code",
      "source": [],
      "metadata": {
        "id": "MLeKfnmOzoyv"
      },
      "execution_count": null,
      "outputs": []
    }
  ]
}